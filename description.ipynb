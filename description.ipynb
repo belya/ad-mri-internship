{
 "cells": [
  {
   "cell_type": "markdown",
   "metadata": {},
   "source": [
    "# Title"
   ]
  },
  {
   "cell_type": "markdown",
   "metadata": {},
   "source": [
    "Longitudinal MRI Data in Nondemented and Demented Older Adults"
   ]
  },
  {
   "cell_type": "markdown",
   "metadata": {},
   "source": [
    "# Description"
   ]
  },
  {
   "cell_type": "markdown",
   "metadata": {},
   "source": [
    "Alzheimer's disease (AD), also referred to simply as Alzheimer's, is a chronic neurodegenerative disease, and the most common cause of dementia. It is a condition where neurons within the brain stop functioning, lose connection with other neurons and die. A build-up of beta-amyloid plaques and neurofibrillary tangles in the brain are associated with the disease. \n",
    "\n",
    "The course of the disease is irreversible and progressive. Mild cognitive impairment (MCI) is a stage between normal forgetfulness due to aging and the development of Alzheimer's disease. \n",
    "\n",
    "MRI can detect brain abnormalities associated with mild cognitive impairment (MCI) and can be used to predict which patients with MCI may eventually develop Alzheimer's disease. In the early stages of Alzheimer's disease, an MRI scan of the brain may be normal. In later stages, MRI may show a decrease in the size of different areas of the brain (mainly affecting the temporal and parietal lobes)."
   ]
  },
  {
   "cell_type": "markdown",
   "metadata": {},
   "source": [
    "# Experiment"
   ]
  },
  {
   "attachments": {},
   "cell_type": "markdown",
   "metadata": {},
   "source": [
    "- 150 participants, 373 MRI scans\n",
    "- Each subject was scanned on two or more visits, separated by at least one year \n",
    "- CDR coefficients were reestimated for each subject during each procedure\n",
    "- nWBV and eTIV features were calculated based on MRI scans\n",
    "\n",
    "### Subjects\n",
    "\n",
    "- 150 participants, age 60-96 (62 males, 88 females)\n",
    "    - 64 - patients with very mild to moderate AD\n",
    "    - 72 - healthy subjects \n",
    "    - 14 - healthy at the initial visit, AD patients further  \n",
    " \n",
    "Subjects with a primary cause of dementia other than AD same as with gross anatomical abnormalities were excluded.\n",
    "\n",
    "### MRI device\n",
    "\n",
    "For each subject, three to four individual T1-weighted\n",
    "magnetization prepared rapid gradient-echo (MP-RAGE)\n",
    "images were acquired on a 1.5-T Vision scanner (Siemens,\n",
    "Erlangen, Germany) in a single imaging session\n",
    "\n",
    "- Sequence - MP-RAGE\n",
    "- TR (msec) - 9.7\n",
    "- TE (msec) - 4.0\n",
    "- Flip angle - 10°\n",
    "- TI (msec) - 20\n",
    "- TD (msec) - 200\n",
    "- Orientation - Sagittal\n",
    "- Thickness, gap (mm) - 1.25, 0\n",
    "- Slice number - 128\n",
    "- Resolution - 256 × 256 (1 × 1 mm)\n",
    "\n",
    "MP-RAGE parameters were empirically optimized for gray-white contrast\n",
    "\n",
    "### Postprocessing (?)\n",
    "\n",
    "### Target\n",
    "\n",
    "Dementia status was established and staged using the Clinical Dementia Rating (CDR) scale. The determination of AD or nondemented control status is based solely on clinical methods, without reference to psychometric performance, and any potential alternative causes of dementia. CDR of 0 indicates no dementia and a CDR of 0.5, 1, 2, and 3 represent very mild, mild, moderate, and severe AD, respectively \n",
    "\n",
    "### File content \n",
    "- 373 3D MRI scans in NIfTI1 format (.img, .hdr)\n",
    "- Demographic data file with:\n",
    "    - Gender\n",
    "    - Handedness\n",
    "    - Age in years\n",
    "    - Years of education\n",
    "    - Socioeconomic Status\n",
    "    - Mini Mental State Examination\n",
    "    - Normalized Whole-Brain Volume, Estimated Total Intracranial Volume\n",
    "    - Atlas Scaling Factor (for scan-related features)\n",
    "    - Health group and CDR score"
   ]
  },
  {
   "cell_type": "markdown",
   "metadata": {},
   "source": [
    "# Hypotheses"
   ]
  },
  {
   "cell_type": "markdown",
   "metadata": {},
   "source": [
    "1. Demographic data:\n",
    "    1. Socioeconomic status\n",
    "    1. Gender\n",
    "\n",
    "Previous research found that low occupational status is associated with increased disease risk. [3, 4]\n",
    "\n",
    "2. MRI-based features:\n",
    "    1. Normalized whole-brain volume - it decreases over age, but the process is slower for healthy individuals [1]\n",
    "    1. Hippocampus volume\n",
    "    1. Entorhinal cortex volume\n",
    "    \n",
    "EC and hippocampus are among the earliest parts of the brain affected by Alzheimer’s Disease (AD) [5]"
   ]
  },
  {
   "cell_type": "markdown",
   "metadata": {},
   "source": [
    "# Related articles\n",
    "\n",
    "1. https://www.mitpressjournals.org/doi/pdfplus/10.1162/jocn.2009.21407\n",
    "2. https://en.wikipedia.org/wiki/Alzheimer%27s_disease\n",
    "3. ?\n",
    "4. ?\n",
    "5. ?\n",
    "6. https://www.radiologyinfo.org/en/info.cfm?pg=alzheimers"
   ]
  }
 ],
 "metadata": {
  "kernelspec": {
   "display_name": "Python 3",
   "language": "python",
   "name": "python3"
  },
  "language_info": {
   "codemirror_mode": {
    "name": "ipython",
    "version": 3
   },
   "file_extension": ".py",
   "mimetype": "text/x-python",
   "name": "python",
   "nbconvert_exporter": "python",
   "pygments_lexer": "ipython3",
   "version": "3.5.2"
  }
 },
 "nbformat": 4,
 "nbformat_minor": 2
}
